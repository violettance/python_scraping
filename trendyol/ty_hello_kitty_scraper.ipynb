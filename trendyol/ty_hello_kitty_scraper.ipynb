{
 "cells": [
  {
   "attachments": {},
   "cell_type": "markdown",
   "metadata": {},
   "source": [
    "# Checking web site structure with manual inputs"
   ]
  },
  {
   "cell_type": "code",
   "execution_count": 2,
   "metadata": {},
   "outputs": [],
   "source": [
    "import requests\n",
    "from bs4 import BeautifulSoup"
   ]
  },
  {
   "cell_type": "code",
   "execution_count": 3,
   "metadata": {},
   "outputs": [],
   "source": [
    "# Manual get of hello kitty request\n",
    "ty = requests.get(\"https://www.trendyol.com/sr?q=hello+kitty\")\n",
    "# ty.text\n",
    "\n",
    "# Parsing HTML output of request\n",
    "ty_code = BeautifulSoup(ty.text, 'html.parser')\n",
    "# ty_code"
   ]
  },
  {
   "cell_type": "code",
   "execution_count": null,
   "metadata": {},
   "outputs": [],
   "source": [
    "# Product title\n",
    "# ty_code.findAll(\"span\", class_=\"prdct-desc-cntnr-ttl\")\n",
    "\n",
    "# Product ratings\n",
    "# ty_code.findAll(\"span\", class_=\"prdct-desc-cntnr-name hasRatings\")\n",
    "ty_code.findAll(\"span\", class_=\"prdct-desc-cntnr-name\")"
   ]
  },
  {
   "cell_type": "code",
   "execution_count": 13,
   "metadata": {},
   "outputs": [
    {
     "data": {
      "text/plain": [
       "<span class=\"prdct-desc-cntnr-name hasRatings\" title=\"Sürpriz Yumurta\">Sürpriz Yumurta</span>"
      ]
     },
     "execution_count": 13,
     "metadata": {},
     "output_type": "execute_result"
    }
   ],
   "source": [
    "# Checking single object\n",
    "# ty_code.findAll(\"span\", class_=\"prdct-desc-cntnr-name hasRatings\")[0]\n",
    "\n",
    "ty_code.findAll(\"span\", class_=\"prdct-desc-cntnr-name hasRatings\")[0].get_text()\n",
    "\n",
    "# All product descriptions\n",
    "ty_item_desc = ty_code.findAll(\"span\", class_=\"prdct-desc-cntnr-name hasRatings\")"
   ]
  },
  {
   "cell_type": "code",
   "execution_count": 17,
   "metadata": {},
   "outputs": [
    {
     "name": "stdout",
     "output_type": "stream",
     "text": [
      "Sürpriz Yumurta\n",
      "Folyo Balon 75 Cm Dev Boy\n",
      "Çiftli Melamın Mama&su Kabı Pembe\n",
      "Uçlu Kalem Seti Başlıklı Jel Tükenmez Kalem Hediyeli\n",
      "My Melody Mini Figür\n",
      "Lisanslı Kalp Başlı Kurşun Kalem\n",
      "Saat Hello Kity Pembe Kız Çocuk Kol Saati\n",
      "KT-2 Taşınabilir USB Hoparlör\n",
      "My Melody Mini Figür\n",
      "Ütü Ile Yapışan Dokuma Arma - Patch - Yama 4 Lü Set (orjinal Lisanslı Ürün)\n",
      "Ruj Silgi\n",
      "Lolliboni Gift Lollipop\n",
      "Kalemtraş 25874\n",
      "Defter A4 Sert Kapak 60 Yaprak\n",
      "Ayraç 25 Yp 4X15X50 Hk-Ka-B-Fp - 30006723\n",
      "Projeksiyon Saat ( 24 Farklı Karakteri Duvara Yansıtır )\n",
      "Ütü Ile Yapışan Dokuma Arma - Patch - Yama 4 Lü Set Mor (orjinal Lisanslı Ürün)\n",
      "Hello Kity Lens Kabı Lens Saklama Kutusu\n",
      "HK-HQ2008D8 Hava Nemlendirme Cihazı\n"
     ]
    }
   ],
   "source": [
    "# Checking item description of the 1st page\n",
    "for itm in ty_item_desc:\n",
    "    print(itm.get_text())"
   ]
  },
  {
   "cell_type": "code",
   "execution_count": 4,
   "metadata": {},
   "outputs": [
    {
     "data": {
      "text/plain": [
       "'\"hello kitty\" araması için 887 sonuç listeleniyor'"
      ]
     },
     "execution_count": 4,
     "metadata": {},
     "output_type": "execute_result"
    }
   ],
   "source": [
    "# Checking how many records are available to calculate page count\n",
    "# As 20230327 a page contains 24 item in a page\n",
    "ty_code.findAll(\"div\", class_=\"dscrptn\")\n",
    "ty_code.find(\"div\", class_=\"dscrptn\").get_text()"
   ]
  },
  {
   "attachments": {},
   "cell_type": "markdown",
   "metadata": {},
   "source": [
    "# Automating script to collect results for input keywords"
   ]
  },
  {
   "cell_type": "code",
   "execution_count": 1,
   "metadata": {},
   "outputs": [],
   "source": [
    "import requests\n",
    "from bs4 import BeautifulSoup\n",
    "\n",
    "import math\n",
    "import pandas as pd"
   ]
  },
  {
   "cell_type": "code",
   "execution_count": 10,
   "metadata": {},
   "outputs": [
    {
     "name": "stdout",
     "output_type": "stream",
     "text": [
      "1\n",
      "2\n",
      "3\n",
      "4\n",
      "5\n",
      "6\n",
      "7\n",
      "8\n",
      "9\n",
      "10\n",
      "11\n",
      "12\n",
      "13\n",
      "14\n",
      "15\n",
      "16\n",
      "17\n",
      "18\n",
      "19\n",
      "20\n",
      "21\n",
      "22\n",
      "23\n",
      "24\n",
      "25\n",
      "26\n",
      "27\n",
      "28\n",
      "29\n",
      "30\n",
      "31\n",
      "32\n",
      "33\n",
      "34\n",
      "35\n",
      "36\n"
     ]
    }
   ],
   "source": [
    "search_query = \"hello+kitty\"\n",
    "\n",
    "# Getting 1st page to calculate page count\n",
    "url = f\"https://www.trendyol.com/sr?q={search_query}\"\n",
    "ty = requests.get(url)\n",
    "ty_code = BeautifulSoup(ty.text, 'html.parser')\n",
    "\n",
    "# Get total item count from query results\n",
    "all_result = ty_code.find(\"div\", class_=\"dscrptn\").get_text()\n",
    "\n",
    "# Single page contains 24 items\n",
    "num_result = int(all_result.split(\" \")[-3])\n",
    "num_page = math.ceil(num_result / 24)\n",
    "\n",
    "\n",
    "product_list = []\n",
    "price = []\n",
    "price_list = []\n",
    "\n",
    "# Loop through each page and scrape the data\n",
    "for page_number in range(1, num_page):\n",
    "    url = f\"https://www.trendyol.com/sr?q={search_query}pi={page_number}\"\n",
    "    response = requests.get(url)\n",
    "    soup = BeautifulSoup(response.content, 'html.parser')\n",
    "\n",
    "    name = soup.find_all('span', {'class': 'prdct-desc-cntnr-name'})\n",
    "    # Due to \"adet/fiyat\" price info is duplicated\n",
    "    price = soup.find_all('div', {'class': 'prc-box-dscntd'})\n",
    "\n",
    "    # prices = soup.find_all('div', {'class': 'prc-cntnr discountedPriceBox'})\n",
    "\n",
    "    # for pr in prices:\n",
    "        # price.append(pr.find('div', {'class': 'prc-box-dscntd'}))\n",
    "    \n",
    "    for itm in name:\n",
    "        product_list.append(itm.get_text())\n",
    "\n",
    "    for prc in price:\n",
    "        price_list.append(prc.get_text())\n",
    "    \n",
    "    print(page_number)"
   ]
  },
  {
   "cell_type": "code",
   "execution_count": 11,
   "metadata": {},
   "outputs": [],
   "source": [
    "combined_list = {'Products':product_list,'Price':price_list}"
   ]
  },
  {
   "cell_type": "code",
   "execution_count": null,
   "metadata": {},
   "outputs": [],
   "source": [
    "# pd.DataFrame(combined_list)"
   ]
  }
 ],
 "metadata": {
  "kernelspec": {
   "display_name": "base",
   "language": "python",
   "name": "python3"
  },
  "language_info": {
   "codemirror_mode": {
    "name": "ipython",
    "version": 3
   },
   "file_extension": ".py",
   "mimetype": "text/x-python",
   "name": "python",
   "nbconvert_exporter": "python",
   "pygments_lexer": "ipython3",
   "version": "3.9.13"
  },
  "orig_nbformat": 4
 },
 "nbformat": 4,
 "nbformat_minor": 2
}
