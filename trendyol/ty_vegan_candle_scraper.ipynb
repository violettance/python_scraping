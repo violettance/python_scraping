{
 "cells": [
  {
   "attachments": {},
   "cell_type": "markdown",
   "metadata": {},
   "source": [
    "# Trendyol Vegan Candle Scaper"
   ]
  },
  {
   "cell_type": "code",
   "execution_count": 22,
   "metadata": {},
   "outputs": [],
   "source": [
    "# Libraries\n",
    "\n",
    "import requests\n",
    "import json\n",
    "import math\n",
    "import time\n",
    "\n",
    "import pandas as pd\n",
    "from datetime import date"
   ]
  },
  {
   "attachments": {},
   "cell_type": "markdown",
   "metadata": {},
   "source": [
    "# API Endpoints\n",
    "\n",
    "API endpoints are found using search page's infinite scroll capability.\n",
    "\n",
    "In the 1st page all details will be collected and then total page count will be calculated. Scraping will continue to the last page afterwards."
   ]
  },
  {
   "cell_type": "code",
   "execution_count": 2,
   "metadata": {},
   "outputs": [],
   "source": [
    "url = \"https://public.trendyol.com/discovery-web-searchgw-service/v2/api/infinite-scroll/\" \\\n",
    "    \"sr?q=vegan+kokulu+mum&qt=vegan+kokulu+mum\" \\\n",
    "    \"&st=vegan+kokulu+mum&os=1\" \\\n",
    "    \"&pi=1\" \\\n",
    "    \"&culture=tr-TR\" \\\n",
    "    \"&pId=0\" \\\n",
    "    \"&scoringAlgorithmId=2\"\n",
    "\n",
    "ty_vc = requests.get(url)\n",
    "\n",
    "raw_data = json.loads(ty_vc.text)\n",
    "\n",
    "page_count = math.ceil(raw_data[\"result\"][\"totalCount\"] / 24)"
   ]
  },
  {
   "attachments": {},
   "cell_type": "markdown",
   "metadata": {},
   "source": [
    "# Collecting 1st Page Items"
   ]
  },
  {
   "cell_type": "code",
   "execution_count": 3,
   "metadata": {},
   "outputs": [],
   "source": [
    "# pd.set_option('display.max_columns', None)\n",
    "collected_items = pd.json_normalize(raw_data[\"result\"][\"products\"])"
   ]
  },
  {
   "attachments": {},
   "cell_type": "markdown",
   "metadata": {},
   "source": [
    "# Collecting Other Pages"
   ]
  },
  {
   "cell_type": "code",
   "execution_count": 19,
   "metadata": {},
   "outputs": [],
   "source": [
    "for page in range(3, page_count):\n",
    "    url_inner = \"https://public.trendyol.com/discovery-web-searchgw-service/v2/api/infinite-scroll/\" \\\n",
    "        \"sr?q=vegan+kokulu+mum&qt=vegan+kokulu+mum\" \\\n",
    "        \"&st=vegan+kokulu+mum&os=1\" \\\n",
    "        f\"&pi={page}\" \\\n",
    "        \"&culture=tr-TR\" \\\n",
    "        \"&pId=0\" \\\n",
    "        \"&scoringAlgorithmId=2\"\n",
    "    \n",
    "    ty_vc_inner = requests.get(url_inner)\n",
    "    \n",
    "    raw_data_inner = json.loads(ty_vc_inner.text)\n",
    "    collected_items = pd.concat([collected_items, pd.json_normalize(raw_data_inner[\"result\"][\"products\"])], axis=0)\n",
    "\n",
    "    time.sleep(1.2)\n",
    "\n",
    "    print(f\"{page} is completed\")"
   ]
  },
  {
   "cell_type": "code",
   "execution_count": 21,
   "metadata": {},
   "outputs": [],
   "source": [
    "collected_items.reset_index(inplace=True)"
   ]
  },
  {
   "cell_type": "code",
   "execution_count": 23,
   "metadata": {},
   "outputs": [],
   "source": [
    "collected_items.to_csv(f\"ty_candle_export_{date.today()}.csv\")"
   ]
  },
  {
   "attachments": {},
   "cell_type": "markdown",
   "metadata": {},
   "source": [
    "# QA Playground"
   ]
  },
  {
   "cell_type": "code",
   "execution_count": 50,
   "metadata": {},
   "outputs": [],
   "source": [
    "# pd.merge(collected_items, pd.json_normalize(collected_items.promotions), left_index=True, right_index=True)\n",
    "\n",
    "# inner_df = pd.json_normalize(collected_items.promotions)\n",
    "# collected_items.promotions"
   ]
  },
  {
   "cell_type": "code",
   "execution_count": 60,
   "metadata": {},
   "outputs": [
    {
     "data": {
      "text/plain": [
       "\"180 TL'ye %10 İndirim\""
      ]
     },
     "execution_count": 60,
     "metadata": {},
     "output_type": "execute_result"
    }
   ],
   "source": [
    "# inner_df[1][4][\"name\"]"
   ]
  },
  {
   "cell_type": "code",
   "execution_count": null,
   "metadata": {},
   "outputs": [],
   "source": [
    "pd.json_normalize(\n",
    "    raw_data['result']['products'],\n",
    "    record_path=['sections'],\n",
    "    meta=['id', 'name', 'images', 'imageAlt', 'brand.id', 'brand.name', 'tax', 'businessUnit',\n",
    "        'showSexualContent', 'productGroupId', 'hasReviewPhoto', 'cardType', 'hasCollectableCoupon',\n",
    "        'sameDayShipping', 'isLegalRequirementConfirmed', 'badges'],\n",
    "    errors='ignore',\n",
    "    record_prefix=\"_\"\n",
    "    )"
   ]
  }
 ],
 "metadata": {
  "kernelspec": {
   "display_name": "base",
   "language": "python",
   "name": "python3"
  },
  "language_info": {
   "codemirror_mode": {
    "name": "ipython",
    "version": 3
   },
   "file_extension": ".py",
   "mimetype": "text/x-python",
   "name": "python",
   "nbconvert_exporter": "python",
   "pygments_lexer": "ipython3",
   "version": "3.9.13"
  },
  "orig_nbformat": 4,
  "vscode": {
   "interpreter": {
    "hash": "9273c4853fbd3ed168e27009c24980c5bfbfe2cd5bb82896b18308ea3743598e"
   }
  }
 },
 "nbformat": 4,
 "nbformat_minor": 2
}
