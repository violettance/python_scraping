{
 "cells": [
  {
   "cell_type": "markdown",
   "metadata": {},
   "source": [
    "### LinkedIn Login"
   ]
  },
  {
   "cell_type": "code",
   "execution_count": 75,
   "metadata": {},
   "outputs": [
    {
     "name": "stdout",
     "output_type": "stream",
     "text": [
      "Login successful!\n"
     ]
    }
   ],
   "source": [
    "from selenium import webdriver\n",
    "from selenium.webdriver.common.by import By\n",
    "from selenium.webdriver.common.keys import Keys\n",
    "from selenium.webdriver.support.ui import WebDriverWait\n",
    "from selenium.webdriver.support import expected_conditions as EC\n",
    "from selenium.webdriver.chrome.service import Service\n",
    "import time\n",
    "import pandas as pd\n",
    "\n",
    "# Information required for login\n",
    "login_url = 'https://www.linkedin.com/login'\n",
    "username = 'destandromeda@gmail.com'\n",
    "password = 'qabse6-qepfyp-gynreG'\n",
    "\n",
    "# Configure the webdriver (make sure you have the appropriate webdriver executable)\n",
    "# For example, you can use Chrome webdriver: https://sites.google.com/a/chromium.org/chromedriver/downloads\n",
    "driver = webdriver.Chrome()\n",
    "\n",
    "# Open LinkedIn login page\n",
    "driver.get(login_url)\n",
    "\n",
    "# Find the username and password input fields and fill them\n",
    "username_input = driver.find_element('name', 'session_key')\n",
    "password_input = driver.find_element('name', 'session_password')\n",
    "\n",
    "username_input.send_keys(username)\n",
    "password_input.send_keys(password)\n",
    "\n",
    "# Submit the login form\n",
    "password_input.send_keys(Keys.RETURN)\n",
    "\n",
    "# Wait for the login process to complete\n",
    "time.sleep(5)\n",
    "\n",
    "# Check if login was successful (you can define a check based on some element on the home page)\n",
    "if \"LinkedIn\" in driver.title:\n",
    "    print(\"Login successful!\")\n",
    "else:\n",
    "    print(\"Login failed!\")"
   ]
  },
  {
   "cell_type": "markdown",
   "metadata": {},
   "source": [
    "### Keyword Search"
   ]
  },
  {
   "cell_type": "code",
   "execution_count": 76,
   "metadata": {},
   "outputs": [],
   "source": [
    "# Search for \"data analyst\"\n",
    "search_keyword = \"data analyst\"\n",
    "search_url = f'https://www.linkedin.com/search/results/all/?keywords={search_keyword}'\n",
    "\n",
    "# Open the search page\n",
    "driver.get(search_url)\n",
    "\n",
    "# Wait for the search results to load\n",
    "time.sleep(5)\n",
    "\n",
    "# Define a function to scroll down the page to load more results\n",
    "def scroll_to_bottom():\n",
    "    last_height = driver.execute_script(\"return document.body.scrollHeight\")\n",
    "    while True:\n",
    "        driver.execute_script(\"window.scrollTo(0, document.body.scrollHeight);\")\n",
    "        time.sleep(2)\n",
    "        new_height = driver.execute_script(\"return document.body.scrollHeight\")\n",
    "        if new_height == last_height:\n",
    "            break\n",
    "        last_height = new_height\n",
    "\n",
    "# Scroll down the page to load more results (you can adjust the number of scrolls based on your preference)\n",
    "scroll_to_bottom()"
   ]
  },
  {
   "cell_type": "markdown",
   "metadata": {},
   "source": [
    "### Show All Results"
   ]
  },
  {
   "cell_type": "code",
   "execution_count": 80,
   "metadata": {},
   "outputs": [
    {
     "name": "stdout",
     "output_type": "stream",
     "text": [
      "Clicked on 'See all job results in Turkey' link.\n"
     ]
    }
   ],
   "source": [
    "# Find and click on the \"See all job results in Turkey\" link\n",
    "try:\n",
    "    # Wait for the link to be clickable\n",
    "    see_all_link = WebDriverWait(driver, 10).until(EC.element_to_be_clickable((By.XPATH, '//*[@id=\"e73lWRtoRnKHkZOJzfB3uw==\"]/div/div[2]/a')))\n",
    "    see_all_link.click()\n",
    "\n",
    "    print(\"Clicked on 'See all job results in Turkey' link.\")\n",
    "except Exception as e:\n",
    "    print(\"Error clicking on the link:\", str(e))"
   ]
  },
  {
   "cell_type": "markdown",
   "metadata": {},
   "source": [
    "### Scrape Job Listing"
   ]
  },
  {
   "cell_type": "code",
   "execution_count": 86,
   "metadata": {},
   "outputs": [
    {
     "data": {
      "text/html": [
       "<div>\n",
       "<style scoped>\n",
       "    .dataframe tbody tr th:only-of-type {\n",
       "        vertical-align: middle;\n",
       "    }\n",
       "\n",
       "    .dataframe tbody tr th {\n",
       "        vertical-align: top;\n",
       "    }\n",
       "\n",
       "    .dataframe thead th {\n",
       "        text-align: right;\n",
       "    }\n",
       "</style>\n",
       "<table border=\"1\" class=\"dataframe\">\n",
       "  <thead>\n",
       "    <tr style=\"text-align: right;\">\n",
       "      <th></th>\n",
       "      <th>Requirement</th>\n",
       "      <th>Number of applicants</th>\n",
       "      <th>Company</th>\n",
       "    </tr>\n",
       "  </thead>\n",
       "  <tbody>\n",
       "    <tr>\n",
       "      <th>0</th>\n",
       "      <td>Full-time · Mid-Senior level</td>\n",
       "      <td>59</td>\n",
       "      <td>Fugo Games</td>\n",
       "    </tr>\n",
       "  </tbody>\n",
       "</table>\n",
       "</div>"
      ],
      "text/plain": [
       "                    Requirement Number of applicants     Company\n",
       "0  Full-time · Mid-Senior level                   59  Fugo Games"
      ]
     },
     "execution_count": 86,
     "metadata": {},
     "output_type": "execute_result"
    }
   ],
   "source": [
    "# Initialize an empty dictionary to store the results\n",
    "data = {}\n",
    "\n",
    "# Find the title using the provided XPath\n",
    "try:\n",
    "    title_element = WebDriverWait(driver, 10).until(EC.presence_of_element_located((By.XPATH, '//*[@id=\"ember433\"]/h2')))\n",
    "    title = title_element.text\n",
    "    \n",
    "except Exception as e:\n",
    "    print(\"Error fetching the title:\", str(e))\n",
    "\n",
    "# Find the content using the provided XPath\n",
    "try:\n",
    "    content_element = WebDriverWait(driver, 10).until(EC.presence_of_element_located((By.XPATH, '//*[@id=\"main\"]/div/div[2]/div/div[2]/div[1]/div/div[1]/div/div[1]/div[1]/div[3]/ul/li[1]/span')))\n",
    "    content = content_element.text\n",
    "    data['Requirement'] = content\n",
    "except Exception as e:\n",
    "    print(\"Error fetching the content:\", str(e))\n",
    "\n",
    "try:\n",
    "    content_element = WebDriverWait(driver, 10).until(EC.presence_of_element_located((By.XPATH, '//*[@id=\"main\"]/div/div[2]/div/div[2]/div[1]/div/div[1]/div/div[1]/div[1]/div[3]/ul/li[3]/span')))\n",
    "    content = content_element.text\n",
    "\n",
    "    # Extract the number from the content\n",
    "    number_of_applicants = ''.join(filter(str.isdigit, content))\n",
    "    data['Number of applicants'] = number_of_applicants\n",
    "except Exception as e:\n",
    "    print(\"3Error fetching the content:\", str(e))\n",
    "\n",
    "# Find the element using the provided XPath\n",
    "try:\n",
    "    element = WebDriverWait(driver, 10).until(EC.presence_of_element_located((By.XPATH, '//*[@id=\"main\"]/div/div[2]/div/div[2]/div[1]/div/div[1]/div/div[1]/div[1]/div[2]/div/a')))\n",
    "    content = element.text\n",
    "    data['Company'] = content\n",
    "except Exception as e:\n",
    "    print(\"Error fetching the content:\", str(e))\n",
    "\n",
    "# Create a DataFrame from the data dictionary\n",
    "df = pd.DataFrame([data])\n",
    "\n",
    "# Display the DataFrame\n",
    "df"
   ]
  },
  {
   "cell_type": "markdown",
   "metadata": {},
   "source": [
    "### Getting Skills"
   ]
  },
  {
   "cell_type": "code",
   "execution_count": null,
   "metadata": {},
   "outputs": [],
   "source": [
    "try:\n",
    "    # Wait for the element to be clickable\n",
    "    element_to_click = WebDriverWait(driver, 10).until(\n",
    "        EC.element_to_be_clickable((By.XPATH, '//*[@id=\"main\"]/div/div[2]/div/div[2]/div[1]/div/div[1]/div/div[1]/div[1]/div[3]/ul/div/button'))\n",
    "    )\n",
    "\n",
    "    # Click on the element\n",
    "    element_to_click.click()\n",
    "\n",
    "except Exception as e:\n",
    "    print(\"Error:\", str(e))"
   ]
  }
 ],
 "metadata": {
  "kernelspec": {
   "display_name": "Python 3",
   "language": "python",
   "name": "python3"
  },
  "language_info": {
   "codemirror_mode": {
    "name": "ipython",
    "version": 3
   },
   "file_extension": ".py",
   "mimetype": "text/x-python",
   "name": "python",
   "nbconvert_exporter": "python",
   "pygments_lexer": "ipython3",
   "version": "3.9.13"
  },
  "orig_nbformat": 4
 },
 "nbformat": 4,
 "nbformat_minor": 2
}
